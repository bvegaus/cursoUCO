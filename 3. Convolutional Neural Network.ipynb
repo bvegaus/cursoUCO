{
 "cells": [
  {
   "cell_type": "code",
   "execution_count": 41,
   "metadata": {},
   "outputs": [],
   "source": [
    "import os \n",
    "from PIL import Image\n",
    "import numpy as np\n",
    "import pandas as pd\n",
    "import matplotlib.pyplot as plt\n",
    "from keras.models import Sequential\n",
    "from keras.layers import Dense, Conv2D, MaxPooling2D, Flatten\n",
    "from sklearn.preprocessing import LabelEncoder"
   ]
  },
  {
   "cell_type": "markdown",
   "metadata": {},
   "source": [
    "# Convolutional Neural Network\n",
    "\n",
    "A diferencia del tipo de red usada en el ejercicio anterior, las redes neuronales convolucionales son conocidas por su gran éxito al trabajar sobre **imágenes**. \n",
    "\n",
    "\n",
    "<div class=\"alert alert-warning\">\n",
    "El objetivo de esta parte es tratar las imágenes obtenidas a partir del GC-IMS con este tipo de redes para clasificarlas entre las tres categorías existentes (EVOO/LOO/VOO), además de familiarizarnos con cada una de las capas que se pueden usar en este tipo de redes.\n",
    "</div>\n",
    "\n",
    "Varios aspectos a tener en cuenta:\n",
    "* Para un ordenador, una imagen es una matriz de datos, donde cada píxel está representado por uno o más valores:\n",
    "    * Si la matriz tiene un valor por píxel $\\rightarrow$ imagen en escala de grises\n",
    "    <img src=\"img/eight.gif\" alt=\"Drawing\" style=\"width: 200px;\"/>\n",
    "    * Si la matriz tiene tres valores por píxel $\\rightarrow$ imagen a color\n",
    "    <img src=\"img/Imagen12.png\" alt=\"Drawing\" style=\"width: 400;\"/>\n",
    "\n",
    "\n",
    "\n",
    "## 1. Preprocesamiento y lectura de los datos\n",
    "Como vimos en la parte teórica, el preprocesamiento de los datos es una tarea fundamental a la hora de trabajar analizando datos. <br>\n",
    "En redes neuronales convolucionales es muy común **normalizar** el valor de los bits a una escala entre 0 y 1 con la siguiente fórmula:\n",
    "\n",
    "\\begin{equation*}\n",
    "z_i=\\frac{x_i-\\min(x)}{\\max(x)-\\min(x)}\n",
    "\\end{equation*}\n",
    "\n",
    "Como en nuestro caso el mínimo es igual a cero, la fórmula quedaría de la forma siguiente:\n",
    "\\begin{equation*}\n",
    "z_i=\\frac{x_i}{\\max(x)}\n",
    "\\end{equation*}\n",
    "\n",
    "### A. Lectura, Redimensión y Normalización"
   ]
  },
  {
   "cell_type": "code",
   "execution_count": 4,
   "metadata": {},
   "outputs": [],
   "source": [
    "# Función que nos ayudará a leer los datos y a normalizarlos\n",
    "def load_training_data(directorio, label):\n",
    "    X_train_data = []\n",
    "    y = []\n",
    "    for img in os.listdir(directorio):\n",
    "        path = os.path.join(directorio, img)\n",
    "        img = Image.open(path)\n",
    "        img = img.convert('L')\n",
    "        img = img.resize((100, 100), Image.ANTIALIAS)\n",
    "        img = np.array(img)\n",
    "        img = img.astype('float')\n",
    "        img = img/255.0            #Para normalizar los datos\n",
    "        X_train_data.append(np.array(img))\n",
    "        y.append(label)\n",
    "    return(X_train_data, y)"
   ]
  },
  {
   "cell_type": "markdown",
   "metadata": {},
   "source": [
    "A continuación leeremos, por un lado los datos que nos servirán para entrenar la red y por otro lado aquellos que usaremos para validarla:"
   ]
  },
  {
   "cell_type": "code",
   "execution_count": 9,
   "metadata": {},
   "outputs": [],
   "source": [
    "#Entrenamiento\n",
    "E_train, E_t = load_training_data('./data/huella_espectral_CNN/train/E', 'E')\n",
    "V_train, V_t = load_training_data('./data/huella_espectral_CNN/train/V', 'V')\n",
    "L_train, L_t = load_training_data('./data/huella_espectral_CNN/train/L', 'L')\n",
    "\n",
    "train_data = E_train.copy()\n",
    "train_data.extend(V_train)\n",
    "train_data.extend(L_train)\n",
    "\n",
    "y_train = E_t.copy()\n",
    "y_train.extend(V_t)\n",
    "y_train.extend(L_t)\n",
    "\n",
    "#Validación\n",
    "E_validation, E_t = load_training_data('./data/huella_espectral_CNN/validation/E', 'E')\n",
    "V_validation, V_t = load_training_data('./data/huella_espectral_CNN/validation/V', 'V')\n",
    "L_validation, L_t = load_training_data('./data/huella_espectral_CNN/validation/L', 'L')\n",
    "\n",
    "test_data = E_validation.copy()\n",
    "test_data.extend(V_validation)\n",
    "test_data.extend(L_validation)\n",
    "\n",
    "y_test = E_t.copy()\n",
    "y_test.extend(V_t)\n",
    "y_test.extend(L_t)"
   ]
  },
  {
   "cell_type": "markdown",
   "metadata": {},
   "source": [
    "El siguiente paso que daremos es comprobar que los datos efectivamente están normalizados, mediante un **histograma**"
   ]
  },
  {
   "cell_type": "code",
   "execution_count": 15,
   "metadata": {},
   "outputs": [
    {
     "data": {
      "text/plain": [
       "(array([ 567., 3077., 3576., 1065.,  288.,  171.,   79.,   86.,  215.,\n",
       "         876.]),\n",
       " array([0.2627451 , 0.33647059, 0.41019608, 0.48392157, 0.55764706,\n",
       "        0.63137255, 0.70509804, 0.77882353, 0.85254902, 0.92627451,\n",
       "        1.        ]),\n",
       " <a list of 10 Patch objects>)"
      ]
     },
     "execution_count": 15,
     "metadata": {},
     "output_type": "execute_result"
    },
    {
     "data": {
      "image/png": "[encoded data removed]",
      "text/plain": [
       "<Figure size 432x288 with 1 Axes>"
      ]
     },
     "metadata": {
      "needs_background": "light"
     },
     "output_type": "display_data"
    }
   ],
   "source": [
    "plt.hist(train_data[3].ravel())\n",
    "\n",
    "## TODO: probar con otras imágenes para comprobar que no se debe al azar"
   ]
  },
  {
   "cell_type": "markdown",
   "metadata": {},
   "source": [
    "### B. Label Encoder de la clase\n",
    "Para que el algoritmo funcione correctamente necesitamos hacer un encodign de la variable **Clase**, cambiando los atributos categóricos por numéricos, esto se hacía con la clase **LabelEncoder()**"
   ]
  },
  {
   "cell_type": "code",
   "execution_count": 28,
   "metadata": {},
   "outputs": [],
   "source": [
    "le = LabelEncoder()\n",
    "y_train = le.fit_transform(y_train)\n",
    "y_test = le.fit_transform(y_test)"
   ]
  },
  {
   "cell_type": "code",
   "execution_count": 29,
   "metadata": {},
   "outputs": [
    {
     "data": {
      "text/plain": [
       "array([0, 0, 0, 0, 0, 2, 2, 2, 2, 2, 2, 2, 1, 1, 1, 1, 1], dtype=int64)"
      ]
     },
     "execution_count": 29,
     "metadata": {},
     "output_type": "execute_result"
    }
   ],
   "source": [
    "y_train"
   ]
  },
  {
   "cell_type": "code",
   "execution_count": 30,
   "metadata": {},
   "outputs": [
    {
     "data": {
      "text/plain": [
       "array(['E', 'E', 'E', 'E', 'E', 'V', 'V', 'V', 'V', 'V', 'V', 'V', 'L',\n",
       "       'L', 'L', 'L', 'L'], dtype='<U1')"
      ]
     },
     "execution_count": 30,
     "metadata": {},
     "output_type": "execute_result"
    }
   ],
   "source": [
    "le.inverse_transform(y_train)"
   ]
  },
  {
   "cell_type": "markdown",
   "metadata": {},
   "source": [
    "En resumen tenemos los siguientes datos.\n",
    "\n",
    "* **input** $\\rightarrow$ 27 muestras de aceite\n",
    "    * Cada muestra tiene 1 valor por píxel (imágenes en escala de grises)\n",
    "    * Cada imagen queda represntada por una matriz de tamaño $100\\times 100$\n",
    "* **target** $\\rightarrow$ 27 enteros indicando la clase. Recordemos que 0 = E, 2 = V, 1 = L"
   ]
  },
  {
   "cell_type": "code",
   "execution_count": 16,
   "metadata": {},
   "outputs": [
    {
     "data": {
      "text/plain": [
       "<matplotlib.image.AxesImage at 0x1b0f722ef28>"
      ]
     },
     "execution_count": 16,
     "metadata": {},
     "output_type": "execute_result"
    },
    {
     "data": {
      "image/png": "[encoded data removed]",
      "text/plain": [
       "<Figure size 432x288 with 1 Axes>"
      ]
     },
     "metadata": {
      "needs_background": "light"
     },
     "output_type": "display_data"
    }
   ],
   "source": [
    "#Mostar una imagen\n",
    "plt.imshow(train_data[0], cmap='gist_gray')"
   ]
  },
  {
   "cell_type": "markdown",
   "metadata": {},
   "source": [
    "# 3. Construir la red neuronal convolucional\n",
    "Recordemos que las redes neuronales convolucionales son una combinación de varios tipos de capas:\n",
    "* Convolución + Activación\n",
    "* Pooling\n",
    "* Flatten \n",
    "* Fully Connected\n",
    "\n",
    "En la siguiente imagen podemos ver la ide general del proceso que se realiza:\n",
    "<img src=\"img/Imagen14.png\" alt=\"Drawing\" style=\"width: 400;\"/>\n",
    "\n",
    "Para refrescar un poco la memoria haremos un breve repaso sobre qué hacía cada una de las capas.\n",
    "<div class=\"alert alert-success\">\n",
    "<strong>Convolución</strong>\n",
    "</div>\n",
    "<img src=\"img/convSobel.gif\" alt=\"Drawing\" style=\"height: 200;\"/>\n",
    "\n",
    "<div class=\"alert alert-success\">\n",
    "<strong>Función Activación</strong>\n",
    "</div>\n",
    "<img src=\"img/Imagen15.png\" alt=\"Drawing\" style=\"width: 200;\"/>\n",
    "\n",
    "\n",
    "<div class=\"alert alert-success\">\n",
    "<strong>Pooling</strong>\n",
    "</div>\n",
    "<img src=\"img/maxpool_animation.gif\" alt=\"Drawing\" style=\"width: 200;\"/>\n",
    "\n",
    "\n",
    "\n",
    "<div class=\"alert alert-success\">\n",
    "<strong>Flatten</strong>\n",
    "</div>\n",
    "<img src=\"img/Imagen16.png\" alt=\"Drawing\" style=\"width: 200;\"/>\n",
    "\n",
    "\n",
    "<div class=\"alert alert-success\">\n",
    "<strong>Fully Connected + Softmax</strong>\n",
    "</div>\n",
    "<img src=\"img/Imagen17.png\" alt=\"Drawing\" style=\"width: 200;\"/>\n",
    "\n",
    "\n",
    "## Forma de trabajar con Keras\n",
    "La forma de trabajar con Keras siempre es la misma, tiene unos pasos muy bien definidos que hay que seguir para construir cualquier red neuronal. Estos pasos son los que se detallan en la siguiente imagen:\n",
    "![title](img/Imagen18.png)\n",
    "\n",
    "\n",
    "\n",
    "## CNN Simple\n",
    "Como primera aproximación, para ponernos un poco en contexto, crearemos una CNN con sólo un tipo de cada una de las capas:\n",
    "* 1 Capa de **Convolución**\n",
    "* 1 Capa de **Pooling**\n",
    "* 1 Capa **Flatten**\n",
    "* 1 Capa **Fully Connected**\n"
   ]
  },
  {
   "cell_type": "code",
   "execution_count": 34,
   "metadata": {},
   "outputs": [
    {
     "name": "stdout",
     "output_type": "stream",
     "text": [
      "_________________________________________________________________\n",
      "Layer (type)                 Output Shape              Param #   \n",
      "=================================================================\n",
      "conv2d_4 (Conv2D)            (None, 98, 98, 64)        640       \n",
      "_________________________________________________________________\n",
      "max_pooling2d_3 (MaxPooling2 (None, 49, 49, 64)        0         \n",
      "_________________________________________________________________\n",
      "flatten_2 (Flatten)          (None, 153664)            0         \n",
      "_________________________________________________________________\n",
      "dense_2 (Dense)              (None, 3)                 460995    \n",
      "=================================================================\n",
      "Total params: 461,635\n",
      "Trainable params: 461,635\n",
      "Non-trainable params: 0\n",
      "_________________________________________________________________\n",
      "None\n"
     ]
    }
   ],
   "source": [
    "#Paso 1: crear el modelo\n",
    "model = Sequential()\n",
    "\n",
    "#Paso 2: Añadimos la capa de convolución e indicamos la función de activación\n",
    "model.add(Conv2D(64, kernel_size=3, activation='relu', input_shape=(100,100,1)))\n",
    "\n",
    "#Paso 3: Establecemos la capa de Pooling\n",
    "model.add(MaxPooling2D())\n",
    "\n",
    "#Paso 4: Establecemos la capa Flatten\n",
    "model.add(Flatten())\n",
    "\n",
    "#Paso 4: Por último añadimos la capa Fully Connected\n",
    "model.add(Dense(3, activation='softmax'))\n",
    "\n",
    "# Mostrar un resumen de la red creada\n",
    "print(model.summary())"
   ]
  },
  {
   "cell_type": "code",
   "execution_count": 39,
   "metadata": {},
   "outputs": [
    {
     "name": "stdout",
     "output_type": "stream",
     "text": [
      "Epoch 1/20\n",
      "17/17 [==============================] - 1s 33ms/step - loss: 0.6837 - acc: 0.8235\n",
      "Epoch 2/20\n",
      "17/17 [==============================] - 0s 6ms/step - loss: 0.9609 - acc: 0.4118\n",
      "Epoch 3/20\n",
      "17/17 [==============================] - 0s 6ms/step - loss: 0.6813 - acc: 0.7059\n",
      "Epoch 4/20\n",
      "17/17 [==============================] - 0s 7ms/step - loss: 0.6067 - acc: 0.8235\n",
      "Epoch 5/20\n",
      "17/17 [==============================] - 0s 7ms/step - loss: 0.6596 - acc: 0.8235\n",
      "Epoch 6/20\n",
      "17/17 [==============================] - 0s 7ms/step - loss: 0.5340 - acc: 0.8824\n",
      "Epoch 7/20\n",
      "17/17 [==============================] - 0s 7ms/step - loss: 0.4869 - acc: 0.8824\n",
      "Epoch 8/20\n",
      "17/17 [==============================] - 0s 7ms/step - loss: 0.5299 - acc: 0.8235\n",
      "Epoch 9/20\n",
      "17/17 [==============================] - 0s 7ms/step - loss: 0.4855 - acc: 0.8235\n",
      "Epoch 10/20\n",
      "17/17 [==============================] - 0s 7ms/step - loss: 0.4288 - acc: 0.8824\n",
      "Epoch 11/20\n",
      "17/17 [==============================] - 0s 6ms/step - loss: 0.4076 - acc: 0.8235\n",
      "Epoch 12/20\n",
      "17/17 [==============================] - 0s 7ms/step - loss: 0.4187 - acc: 0.8824\n",
      "Epoch 13/20\n",
      "17/17 [==============================] - 0s 7ms/step - loss: 0.3951 - acc: 0.8235\n",
      "Epoch 14/20\n",
      "17/17 [==============================] - 0s 7ms/step - loss: 0.3655 - acc: 0.8235\n",
      "Epoch 15/20\n",
      "17/17 [==============================] - 0s 7ms/step - loss: 0.3449 - acc: 0.8824\n",
      "Epoch 16/20\n",
      "17/17 [==============================] - 0s 7ms/step - loss: 0.3417 - acc: 0.8824\n",
      "Epoch 17/20\n",
      "17/17 [==============================] - 0s 8ms/step - loss: 0.3337 - acc: 0.8235\n",
      "Epoch 18/20\n",
      "17/17 [==============================] - 0s 7ms/step - loss: 0.3223 - acc: 0.8235\n",
      "Epoch 19/20\n",
      "17/17 [==============================] - 0s 7ms/step - loss: 0.3065 - acc: 0.8824\n",
      "Epoch 20/20\n",
      "17/17 [==============================] - 0s 8ms/step - loss: 0.2934 - acc: 0.8824\n"
     ]
    },
    {
     "data": {
      "text/plain": [
       "<keras.callbacks.History at 0x1b0fdd959b0>"
      ]
     },
     "execution_count": 39,
     "metadata": {},
     "output_type": "execute_result"
    }
   ],
   "source": [
    "# Compilamos y entrenamos el modelo\n",
    "train_data = np.array(train_data)\n",
    "train_data = train_data.reshape(-1,100, 100, 1)\n",
    "model.compile(optimizer='adam', loss='sparse_categorical_crossentropy', metrics=['accuracy'])\n",
    "model.fit(train_data, y_train, epochs = 20, verbose=1)"
   ]
  },
  {
   "cell_type": "markdown",
   "metadata": {},
   "source": [
    "Una vez que ya tenemos nuestro modelo entrenado debemos pasar a **evaluarlo** con los datos de test"
   ]
  },
  {
   "cell_type": "code",
   "execution_count": 40,
   "metadata": {},
   "outputs": [
    {
     "name": "stdout",
     "output_type": "stream",
     "text": [
      "10/10 [==============================] - 0s 11ms/step\n",
      "20.000000298023224\n"
     ]
    }
   ],
   "source": [
    "test_data = np.array(test_data)\n",
    "test_data = test_data.reshape(-1,100, 100, 1)\n",
    "loss, acc = model.evaluate(test_data, y_test, verbose = 1)\n",
    "print(acc*100)"
   ]
  },
  {
   "cell_type": "markdown",
   "metadata": {},
   "source": [
    "Los malos resultados obtenidos se deben principalmente a que el conjunto de datos que hemos elegido es muy pequeño, debido a que un gran conjunto de datos necesitaría de mucha más capacidad de cómputo, tardando incluso horas y días en nuestros ordenadores"
   ]
  },
  {
   "cell_type": "markdown",
   "metadata": {},
   "source": [
    "## 4. Mejorar el modelo\n",
    "Como ejercicio adicional intentaremos mejorar un poco el modelo anterior, probando por ejemplo con otros optimizadores o añadiendo más capas de convolución"
   ]
  },
  {
   "cell_type": "code",
   "execution_count": 42,
   "metadata": {},
   "outputs": [],
   "source": [
    "##TODO"
   ]
  }
 ],
 "metadata": {
  "kernelspec": {
   "display_name": "Python 3",
   "language": "python",
   "name": "python3"
  },
  "language_info": {
   "codemirror_mode": {
    "name": "ipython",
    "version": 3
   },
   "file_extension": ".py",
   "mimetype": "text/x-python",
   "name": "python",
   "nbconvert_exporter": "python",
   "pygments_lexer": "ipython3",
   "version": "3.7.1"
  }
 },
 "nbformat": 4,
 "nbformat_minor": 2
}
